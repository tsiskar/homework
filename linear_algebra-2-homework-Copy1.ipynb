{
 "cells": [
  {
   "cell_type": "code",
   "execution_count": null,
   "metadata": {},
   "outputs": [],
   "source": [
    "%load_ext autoreload\n",
    "%autoreload 2\n",
    "\n",
    "%matplotlib inline"
   ]
  },
  {
   "cell_type": "markdown",
   "metadata": {},
   "source": [
    "## Basic setup"
   ]
  },
  {
   "cell_type": "markdown",
   "metadata": {},
   "source": [
    "Create anaconda environment\n",
    "<br>\n",
    "```bash\n",
    "conda create -n ml python=3.7.4 jupyter\n",
    "```\n",
    "Install fastai library\n",
    "<br>\n",
    "```bash\n",
    "conda install -c pytorch -c fastai fastai\n",
    "```"
   ]
  },
  {
   "cell_type": "markdown",
   "metadata": {},
   "source": [
    "# Linear spaces"
   ]
  },
  {
   "cell_type": "markdown",
   "metadata": {},
   "source": [
    "#### Prove that:\n",
    "For every linear function $f:V \\to U$ between vector spaces $V$ and $U$ on the real numbers, every sequence of vectors $v_1, v_2, \\dots v_m \\in V$ and every scalars $a_1, a_2, \\dots, a_m \\in \\mathbb{R}$:\n",
    "<br>\n",
    "$$f(a_1v_1 + a_2v_2 + \\dots + a_mv_m) = a_1f(v_1) + a_2f(v_2) + \\dots + a_mf(v_m)$$"
   ]
  },
  {
   "cell_type": "markdown",
   "metadata": {},
   "source": [
    "We know that if $f:V \\to U$ is a linear then for arbitrary constants a and be $f(au+bv)=a*f(u)+b*f(v)$\n",
    "\n",
    "So let us consider that $a_{1}v_{1}+...+a_{m/2}v_{m/2}=a*v1$ and $a_{m/2+1}v_{m/2+1}+...+a_{m}v_{m}=b*v2$\n",
    "\n",
    "then as f is linear we can write that $f(a*v1+b*v2)=a*f(v1)+b*f(v2)$. So we will act such untill we get $$f(a_1v_1 + a_2v_2 + \\dots + a_mv_m) = a_1f(v_1) + a_2f(v_2) + \\dots + a_mf(v_m)$$\n"
   ]
  },
  {
   "cell_type": "markdown",
   "metadata": {},
   "source": []
  }
 ],
 "metadata": {
  "kernelspec": {
   "display_name": "Python 3",
   "language": "python",
   "name": "python3"
  },
  "language_info": {
   "codemirror_mode": {
    "name": "ipython",
    "version": 3
   },
   "file_extension": ".py",
   "mimetype": "text/x-python",
   "name": "python",
   "nbconvert_exporter": "python",
   "pygments_lexer": "ipython3",
   "version": "3.6.5"
  }
 },
 "nbformat": 4,
 "nbformat_minor": 4
}
